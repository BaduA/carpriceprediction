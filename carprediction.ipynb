{
  "nbformat": 4,
  "nbformat_minor": 0,
  "metadata": {
    "colab": {
      "provenance": [],
      "authorship_tag": "ABX9TyOq73s3ed7Wbngt+XwyzpK+",
      "include_colab_link": true
    },
    "kernelspec": {
      "name": "python3",
      "display_name": "Python 3"
    },
    "language_info": {
      "name": "python"
    }
  },
  "cells": [
    {
      "cell_type": "markdown",
      "metadata": {
        "id": "view-in-github",
        "colab_type": "text"
      },
      "source": [
        "<a href=\"https://colab.research.google.com/github/BaduA/carpriceprediction/blob/main/carprediction.ipynb\" target=\"_parent\"><img src=\"https://colab.research.google.com/assets/colab-badge.svg\" alt=\"Open In Colab\"/></a>"
      ]
    },
    {
      "cell_type": "code",
      "execution_count": null,
      "metadata": {
        "id": "NBV1FWcZ84T0"
      },
      "outputs": [],
      "source": [
        "import tensorflow as tf\n",
        "import pandas as pd\n",
        "import seaborn as sns\n",
        "from tensorflow.keras.layers import Normalization"
      ]
    },
    {
      "cell_type": "markdown",
      "source": [
        "**Data Preperation**"
      ],
      "metadata": {
        "id": "dnGiuNMJ_2u4"
      }
    },
    {
      "cell_type": "code",
      "source": [
        "data = pd.read_csv(\"train.csv\",\",\")\n",
        "data.head()"
      ],
      "metadata": {
        "id": "5veWKijv88r5"
      },
      "execution_count": null,
      "outputs": []
    },
    {
      "cell_type": "code",
      "source": [
        "data.shape"
      ],
      "metadata": {
        "colab": {
          "base_uri": "https://localhost:8080/"
        },
        "id": "6lsiz17i91hH",
        "outputId": "8ba620ff-8c72-44d9-fda5-45325287e371"
      },
      "execution_count": null,
      "outputs": [
        {
          "output_type": "execute_result",
          "data": {
            "text/plain": [
              "(1000, 12)"
            ]
          },
          "metadata": {},
          "execution_count": 4
        }
      ]
    },
    {
      "cell_type": "code",
      "source": [
        "tensor_data = tf.constant(data)\n",
        "tensor_data = tf.random.shuffle(tensor_data)\n"
      ],
      "metadata": {
        "id": "5oKwu2xw9_Vf"
      },
      "execution_count": null,
      "outputs": []
    },
    {
      "cell_type": "code",
      "source": [
        "X = tensor_data[:,3:-1]\n",
        "Y = tensor_data[:,-1]\n",
        "Y = tf.expand_dims(Y, axis = -1)"
      ],
      "metadata": {
        "id": "t8bVj-am-r9N"
      },
      "execution_count": null,
      "outputs": []
    },
    {
      "cell_type": "code",
      "source": [
        "normalizer = Normalization()\n",
        "normalizer.adapt(X)\n",
        "normalizer(X)[:5]"
      ],
      "metadata": {
        "id": "W6AcDGk4A_sF"
      },
      "execution_count": null,
      "outputs": []
    },
    {
      "cell_type": "code",
      "source": [
        "model = tf.keras.Sequential([normalizer,Dense(1)])"
      ],
      "metadata": {
        "id": "z4eeDePoBtez"
      },
      "execution_count": null,
      "outputs": []
    }
  ]
}